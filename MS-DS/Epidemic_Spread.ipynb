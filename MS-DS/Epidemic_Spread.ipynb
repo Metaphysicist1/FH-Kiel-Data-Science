{
 "cells": [
  {
   "cell_type": "markdown",
   "metadata": {},
   "source": [
    "### Epidemic Spreading Model\n"
   ]
  },
  {
   "cell_type": "markdown",
   "metadata": {
    "vscode": {
     "languageId": "plaintext"
    }
   },
   "source": [
    "For a disease, the value 𝑅 determines the number of persons, a sick person will infect on\n",
    "average.\n",
    "• In every new step, each currently infected person infects 𝑅 further persons and then stops\n",
    "being contagious.\n",
    "• Assume that the disease is discovered, when 100 patients are in their contagious state.\n",
    "\n",
    "1. ¡ Create a mathematical model for the above spreading process – a function for the number\n",
    "   of new infections in each step.\n",
    "2. Plot the number of new infections with every step for different values of 𝑅.\n",
    "3. Describe three qualitatively different behaviors depending on the value for 𝑅.\n",
    "4. Describe the influence of small modifications to 𝑅, e.g. 1.7 vs. 1.75.\n"
   ]
  },
  {
   "cell_type": "code",
   "execution_count": 27,
   "metadata": {},
   "outputs": [
    {
     "name": "stdout",
     "output_type": "stream",
     "text": [
      "Step:  1\n",
      "Currently_Infected:  100\n",
      "Further_infected:  251.18864315095797\n",
      "R:  1.2\n",
      "Step:  2\n",
      "Currently_Infected:  151.18864315095797\n",
      "Further_infected:  412.4990981159447\n",
      "R:  1.2\n",
      "Step:  3\n",
      "Currently_Infected:  261.3104549649868\n",
      "Further_infected:  795.4046824653711\n",
      "R:  1.2\n",
      "Step:  4\n",
      "Currently_Infected:  534.0942275003844\n",
      "Further_infected:  1875.605341808019\n",
      "R:  1.2\n",
      "Step:  5\n",
      "Currently_Infected:  1341.5111143076347\n",
      "Further_infected:  5663.868089277387\n",
      "R:  1.2\n",
      "Step:  6\n",
      "Currently_Infected:  4322.356974969753\n",
      "Further_infected:  23060.289644458888\n",
      "R:  1.2\n"
     ]
    },
    {
     "data": {
      "text/plain": [
       "18737.932669489135"
      ]
     },
     "execution_count": 27,
     "metadata": {},
     "output_type": "execute_result"
    }
   ],
   "source": [
    "\n",
    "def model(R):\n",
    "    \n",
    "    step = 1\n",
    "    Currently_Infected = 100\n",
    "    while Currently_Infected<800000000 and step<7:\n",
    "        \n",
    "        Further_infected = Currently_Infected ** R\n",
    "\n",
    "        print(\"Step: \",step)\n",
    "        print(\"Currently_Infected: \", Currently_Infected)\n",
    "        print(\"Further_infected: \", Further_infected) \n",
    "        print(\"R: \", R) \n",
    "\n",
    "        Currently_Infected = Further_infected - Currently_Infected\n",
    "        \n",
    "        step+=1\n",
    "    return Currently_Infected\n",
    "\n",
    "model(1.2)"
   ]
  },
  {
   "cell_type": "code",
   "execution_count": 28,
   "metadata": {},
   "outputs": [
    {
     "name": "stdout",
     "output_type": "stream",
     "text": [
      "Step:  1\n",
      "Currently_Infected:  100\n",
      "Further_infected:  158.48931924611142\n",
      "R:  1.1\n",
      "Step:  2\n",
      "Currently_Infected:  58.48931924611142\n",
      "Further_infected:  87.85858881186151\n",
      "R:  1.1\n",
      "Step:  3\n",
      "Currently_Infected:  29.369269565750088\n",
      "Further_infected:  41.17963188142516\n",
      "R:  1.1\n",
      "Step:  4\n",
      "Currently_Infected:  11.810362315675071\n",
      "Further_infected:  15.117832983816989\n",
      "R:  1.1\n",
      "Step:  5\n",
      "Currently_Infected:  3.3074706681419173\n",
      "Further_infected:  3.7277398943079505\n",
      "R:  1.1\n",
      "Step:  6\n",
      "Currently_Infected:  0.42026922616603324\n",
      "Further_infected:  0.38537217079962754\n",
      "R:  1.1\n",
      "Step:  1\n",
      "Currently_Infected:  100\n",
      "Further_infected:  251.18864315095797\n",
      "R:  1.2\n",
      "Step:  2\n",
      "Currently_Infected:  151.18864315095797\n",
      "Further_infected:  412.4990981159447\n",
      "R:  1.2\n",
      "Step:  3\n",
      "Currently_Infected:  261.3104549649868\n",
      "Further_infected:  795.4046824653711\n",
      "R:  1.2\n",
      "Step:  4\n",
      "Currently_Infected:  534.0942275003844\n",
      "Further_infected:  1875.605341808019\n",
      "R:  1.2\n",
      "Step:  5\n",
      "Currently_Infected:  1341.5111143076347\n",
      "Further_infected:  5663.868089277387\n",
      "R:  1.2\n",
      "Step:  6\n",
      "Currently_Infected:  4322.356974969753\n",
      "Further_infected:  23060.289644458888\n",
      "R:  1.2\n",
      "Step:  1\n",
      "Currently_Infected:  100\n",
      "Further_infected:  1000.0\n",
      "R:  1.5\n",
      "Step:  2\n",
      "Currently_Infected:  900.0\n",
      "Further_infected:  27000.0\n",
      "R:  1.5\n",
      "Step:  3\n",
      "Currently_Infected:  26100.0\n",
      "Further_infected:  4216584.043986317\n",
      "R:  1.5\n",
      "Step:  4\n",
      "Currently_Infected:  4190484.043986317\n",
      "Further_infected:  8578202359.418382\n",
      "R:  1.5\n",
      "Step:  1\n",
      "Currently_Infected:  100\n",
      "Further_infected:  1584.893192461114\n",
      "R:  1.6\n",
      "Step:  2\n",
      "Currently_Infected:  1484.893192461114\n",
      "Further_infected:  118771.5286084957\n",
      "R:  1.6\n",
      "Step:  3\n",
      "Currently_Infected:  117286.6354160346\n",
      "Further_infected:  129061778.25943637\n",
      "R:  1.6\n",
      "Step:  4\n",
      "Currently_Infected:  128944491.62402034\n",
      "Further_infected:  9476423713158.746\n",
      "R:  1.6\n",
      "Step:  1\n",
      "Currently_Infected:  100\n",
      "Further_infected:  2511.88643150958\n",
      "R:  1.7\n",
      "Step:  2\n",
      "Currently_Infected:  2411.88643150958\n",
      "Further_infected:  562349.9389831303\n",
      "R:  1.7\n",
      "Step:  3\n",
      "Currently_Infected:  559938.0525516206\n",
      "Further_infected:  5913409712.17492\n",
      "R:  1.7\n"
     ]
    }
   ],
   "source": [
    "R_values = [ 1.1, 1.2, 1.5, 1.6, 1.7]\n",
    "Values = [model(i) for i in R_values]\n"
   ]
  },
  {
   "cell_type": "code",
   "execution_count": 32,
   "metadata": {},
   "outputs": [
    {
     "data": {
      "text/plain": [
       "<matplotlib.collections.PathCollection at 0x71cda7790130>"
      ]
     },
     "execution_count": 32,
     "metadata": {},
     "output_type": "execute_result"
    },
    {
     "data": {
      "image/png": "[encoded data removed]",
      "text/plain": [
       "<Figure size 640x480 with 1 Axes>"
      ]
     },
     "metadata": {},
     "output_type": "display_data"
    }
   ],
   "source": [
    "from matplotlib import pyplot as plt\n",
    "import numpy as np\n",
    "\n",
    "plt.scatter(np.log(R_values),Values)"
   ]
  },
  {
   "cell_type": "code",
   "execution_count": null,
   "metadata": {},
   "outputs": [],
   "source": [
    "\n",
    "def plot():\n",
    "    pass"
   ]
  }
 ],
 "metadata": {
  "kernelspec": {
   "display_name": ".venv",
   "language": "python",
   "name": "python3"
  },
  "language_info": {
   "codemirror_mode": {
    "name": "ipython",
    "version": 3
   },
   "file_extension": ".py",
   "mimetype": "text/x-python",
   "name": "python",
   "nbconvert_exporter": "python",
   "pygments_lexer": "ipython3",
   "version": "3.10.12"
  }
 },
 "nbformat": 4,
 "nbformat_minor": 2
}
