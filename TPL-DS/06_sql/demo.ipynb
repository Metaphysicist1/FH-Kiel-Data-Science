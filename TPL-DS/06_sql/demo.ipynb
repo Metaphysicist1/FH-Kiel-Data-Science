{
 "cells": [
  {
   "cell_type": "code",
   "execution_count": 1,
   "metadata": {},
   "outputs": [],
   "source": [
    "#%pip install SQLAlchemy pymysql python-dotenv "
   ]
  },
  {
   "cell_type": "code",
   "execution_count": null,
   "metadata": {},
   "outputs": [],
   "source": []
  },
  {
   "cell_type": "markdown",
   "metadata": {},
   "source": [
    "# 1. Connect to SQL Database\n"
   ]
  },
  {
   "cell_type": "markdown",
   "metadata": {},
   "source": [
    "- It would be bad practice to store your database password into a Python script or Jupyter Notebook\n",
    "- Instead, we store the password in a separate `.env` file.\n",
    "- This is a text file that contains environment variables in the form of name=value pairs.\n",
    "- You can then load these variables into environment variables using the dotenv package.\n",
    "- Such a .env file should never be shared with others or checked into version control (will be covered in our lecture on git and Github)\n"
   ]
  },
  {
   "cell_type": "code",
   "execution_count": 2,
   "metadata": {},
   "outputs": [
    {
     "data": {
      "text/plain": [
       "True"
      ]
     },
     "execution_count": 2,
     "metadata": {},
     "output_type": "execute_result"
    }
   ],
   "source": [
    "from dotenv import load_dotenv                        # Load passwords etc from .env file \n",
    "load_dotenv('.env')                                   # Absolute or relative path to the .env file "
   ]
  },
  {
   "cell_type": "markdown",
   "metadata": {},
   "source": [
    "- The package SQLAlchemy allows you to connect to different variants of SQL databases (e.g. MySQL, PostgreSQL, SQLite, ...).\n",
    "- To connect to a MySQL database, you need to specify both the database dialect (mysql) and choose an appropriate driver (pymysql or mysqlconnector).\n"
   ]
  },
  {
   "cell_type": "code",
   "execution_count": 3,
   "metadata": {},
   "outputs": [],
   "source": [
    "from sqlalchemy import create_engine           # Connection to database\n",
    "import os                                             # Needed to access environment variables"
   ]
  },
  {
   "cell_type": "code",
   "execution_count": 4,
   "metadata": {},
   "outputs": [],
   "source": [
    "DIALECT = 'mysql'\n",
    "DRIVER = 'mysqlconnector'\n",
    "USER = 'root'\n",
    "PASSWORD = os.getenv('MYSQL_PASSWORD')\n",
    "HOST = 'localhost'\n",
    "PORT = '3306'\n",
    "DB = 'music'\n",
    "\n",
    "connection_string = f\"{DIALECT}+{DRIVER}://{USER}:{PASSWORD}@{HOST}:{PORT}/{DB}\"\n",
    "engine = create_engine(connection_string)"
   ]
  },
  {
   "cell_type": "markdown",
   "metadata": {},
   "source": [
    "# 2. Read from SQL Database to Pandas DataFrame\n"
   ]
  },
  {
   "cell_type": "markdown",
   "metadata": {},
   "source": [
    "## 2.1 Inspecting the MySQL database\n"
   ]
  },
  {
   "cell_type": "markdown",
   "metadata": {},
   "source": [
    "First, we inspect the available databases in our MySQL Server, and specifically the available tables in our \"music\" database.\n"
   ]
  },
  {
   "cell_type": "code",
   "execution_count": 5,
   "metadata": {},
   "outputs": [],
   "source": [
    "import pandas as pd\n",
    "from sqlalchemy import inspect"
   ]
  },
  {
   "cell_type": "code",
   "execution_count": 6,
   "metadata": {},
   "outputs": [
    {
     "name": "stdout",
     "output_type": "stream",
     "text": [
      "Available Databases:\n"
     ]
    },
    {
     "data": {
      "text/plain": [
       "['Sales',\n",
       " 'University',\n",
       " 'information_schema',\n",
       " 'music',\n",
       " 'mysql',\n",
       " 'performance_schema',\n",
       " 'sys']"
      ]
     },
     "execution_count": 6,
     "metadata": {},
     "output_type": "execute_result"
    }
   ],
   "source": [
    "inspector = inspect(engine)\n",
    "\n",
    "print('Available Databases:')\n",
    "inspector.get_schema_names()"
   ]
  },
  {
   "cell_type": "code",
   "execution_count": 7,
   "metadata": {},
   "outputs": [
    {
     "data": {
      "text/plain": [
       "['artists', 'avg_streams_by_region', 'charts', 'tracks', 'tracks_artists']"
      ]
     },
     "execution_count": 7,
     "metadata": {},
     "output_type": "execute_result"
    }
   ],
   "source": [
    "inspector.get_table_names()"
   ]
  },
  {
   "cell_type": "markdown",
   "metadata": {},
   "source": [
    "## 2.2 Read full table\n"
   ]
  },
  {
   "cell_type": "markdown",
   "metadata": {},
   "source": [
    "We can read entire tables into a Pandas Dataframe\n"
   ]
  },
  {
   "cell_type": "code",
   "execution_count": 8,
   "metadata": {},
   "outputs": [
    {
     "data": {
      "text/html": [
       "<div>\n",
       "<style scoped>\n",
       "    .dataframe tbody tr th:only-of-type {\n",
       "        vertical-align: middle;\n",
       "    }\n",
       "\n",
       "    .dataframe tbody tr th {\n",
       "        vertical-align: top;\n",
       "    }\n",
       "\n",
       "    .dataframe thead th {\n",
       "        text-align: right;\n",
       "    }\n",
       "</style>\n",
       "<table border=\"1\" class=\"dataframe\">\n",
       "  <thead>\n",
       "    <tr style=\"text-align: right;\">\n",
       "      <th></th>\n",
       "      <th>id</th>\n",
       "      <th>region</th>\n",
       "      <th>freq</th>\n",
       "      <th>date</th>\n",
       "      <th>track_id</th>\n",
       "      <th>rank</th>\n",
       "      <th>streams</th>\n",
       "      <th>peak_rank</th>\n",
       "      <th>weeks_on_chart</th>\n",
       "    </tr>\n",
       "  </thead>\n",
       "  <tbody>\n",
       "    <tr>\n",
       "      <th>0</th>\n",
       "      <td>1</td>\n",
       "      <td>de</td>\n",
       "      <td>weekly</td>\n",
       "      <td>2021-06-03</td>\n",
       "      <td>4ZtFanR9U6ndgddUvNcjcG</td>\n",
       "      <td>1</td>\n",
       "      <td>3704439</td>\n",
       "      <td>1</td>\n",
       "      <td>3.0</td>\n",
       "    </tr>\n",
       "    <tr>\n",
       "      <th>1</th>\n",
       "      <td>1</td>\n",
       "      <td>de</td>\n",
       "      <td>weekly</td>\n",
       "      <td>2021-06-03</td>\n",
       "      <td>6DiaHETMcKdX7FwuGXwp1O</td>\n",
       "      <td>2</td>\n",
       "      <td>3582697</td>\n",
       "      <td>2</td>\n",
       "      <td>1.0</td>\n",
       "    </tr>\n",
       "    <tr>\n",
       "      <th>2</th>\n",
       "      <td>1</td>\n",
       "      <td>de</td>\n",
       "      <td>weekly</td>\n",
       "      <td>2021-06-03</td>\n",
       "      <td>4txsSBdT4yVJtUj41YaQEB</td>\n",
       "      <td>3</td>\n",
       "      <td>2945134</td>\n",
       "      <td>1</td>\n",
       "      <td>3.0</td>\n",
       "    </tr>\n",
       "    <tr>\n",
       "      <th>3</th>\n",
       "      <td>1</td>\n",
       "      <td>de</td>\n",
       "      <td>weekly</td>\n",
       "      <td>2021-06-03</td>\n",
       "      <td>2knDuFWczh1Wv92eBAdPTa</td>\n",
       "      <td>4</td>\n",
       "      <td>2739815</td>\n",
       "      <td>1</td>\n",
       "      <td>6.0</td>\n",
       "    </tr>\n",
       "    <tr>\n",
       "      <th>4</th>\n",
       "      <td>1</td>\n",
       "      <td>de</td>\n",
       "      <td>weekly</td>\n",
       "      <td>2021-06-03</td>\n",
       "      <td>3idbCPumlga23rxFA08fZE</td>\n",
       "      <td>5</td>\n",
       "      <td>2664580</td>\n",
       "      <td>5</td>\n",
       "      <td>1.0</td>\n",
       "    </tr>\n",
       "  </tbody>\n",
       "</table>\n",
       "</div>"
      ],
      "text/plain": [
       "   id region    freq        date                track_id  rank  streams  \\\n",
       "0   1     de  weekly  2021-06-03  4ZtFanR9U6ndgddUvNcjcG     1  3704439   \n",
       "1   1     de  weekly  2021-06-03  6DiaHETMcKdX7FwuGXwp1O     2  3582697   \n",
       "2   1     de  weekly  2021-06-03  4txsSBdT4yVJtUj41YaQEB     3  2945134   \n",
       "3   1     de  weekly  2021-06-03  2knDuFWczh1Wv92eBAdPTa     4  2739815   \n",
       "4   1     de  weekly  2021-06-03  3idbCPumlga23rxFA08fZE     5  2664580   \n",
       "\n",
       "   peak_rank  weeks_on_chart  \n",
       "0          1             3.0  \n",
       "1          2             1.0  \n",
       "2          1             3.0  \n",
       "3          1             6.0  \n",
       "4          5             1.0  "
      ]
     },
     "execution_count": 8,
     "metadata": {},
     "output_type": "execute_result"
    }
   ],
   "source": [
    "tracks = pd.read_sql('charts', con=engine)\n",
    "tracks.head()"
   ]
  },
  {
   "cell_type": "markdown",
   "metadata": {},
   "source": [
    "## 2.3 SQL Select Query\n"
   ]
  },
  {
   "cell_type": "markdown",
   "metadata": {},
   "source": [
    "We can send arbitrary SQL queries to read data into a Pandas DataFrame\n"
   ]
  },
  {
   "cell_type": "markdown",
   "metadata": {},
   "source": [
    "### Select all columns\n"
   ]
  },
  {
   "cell_type": "code",
   "execution_count": 9,
   "metadata": {},
   "outputs": [
    {
     "data": {
      "text/html": [
       "<div>\n",
       "<style scoped>\n",
       "    .dataframe tbody tr th:only-of-type {\n",
       "        vertical-align: middle;\n",
       "    }\n",
       "\n",
       "    .dataframe tbody tr th {\n",
       "        vertical-align: top;\n",
       "    }\n",
       "\n",
       "    .dataframe thead th {\n",
       "        text-align: right;\n",
       "    }\n",
       "</style>\n",
       "<table border=\"1\" class=\"dataframe\">\n",
       "  <thead>\n",
       "    <tr style=\"text-align: right;\">\n",
       "      <th></th>\n",
       "      <th>id</th>\n",
       "      <th>region</th>\n",
       "      <th>freq</th>\n",
       "      <th>date</th>\n",
       "      <th>track_id</th>\n",
       "      <th>rank</th>\n",
       "      <th>streams</th>\n",
       "      <th>peak_rank</th>\n",
       "      <th>weeks_on_chart</th>\n",
       "    </tr>\n",
       "  </thead>\n",
       "  <tbody>\n",
       "    <tr>\n",
       "      <th>0</th>\n",
       "      <td>1</td>\n",
       "      <td>de</td>\n",
       "      <td>weekly</td>\n",
       "      <td>2021-06-03</td>\n",
       "      <td>4ZtFanR9U6ndgddUvNcjcG</td>\n",
       "      <td>1</td>\n",
       "      <td>3704439</td>\n",
       "      <td>1</td>\n",
       "      <td>3.0</td>\n",
       "    </tr>\n",
       "    <tr>\n",
       "      <th>1</th>\n",
       "      <td>1</td>\n",
       "      <td>de</td>\n",
       "      <td>weekly</td>\n",
       "      <td>2021-06-03</td>\n",
       "      <td>6DiaHETMcKdX7FwuGXwp1O</td>\n",
       "      <td>2</td>\n",
       "      <td>3582697</td>\n",
       "      <td>2</td>\n",
       "      <td>1.0</td>\n",
       "    </tr>\n",
       "    <tr>\n",
       "      <th>2</th>\n",
       "      <td>1</td>\n",
       "      <td>de</td>\n",
       "      <td>weekly</td>\n",
       "      <td>2021-06-03</td>\n",
       "      <td>4txsSBdT4yVJtUj41YaQEB</td>\n",
       "      <td>3</td>\n",
       "      <td>2945134</td>\n",
       "      <td>1</td>\n",
       "      <td>3.0</td>\n",
       "    </tr>\n",
       "  </tbody>\n",
       "</table>\n",
       "</div>"
      ],
      "text/plain": [
       "   id region    freq        date                track_id  rank  streams  \\\n",
       "0   1     de  weekly  2021-06-03  4ZtFanR9U6ndgddUvNcjcG     1  3704439   \n",
       "1   1     de  weekly  2021-06-03  6DiaHETMcKdX7FwuGXwp1O     2  3582697   \n",
       "2   1     de  weekly  2021-06-03  4txsSBdT4yVJtUj41YaQEB     3  2945134   \n",
       "\n",
       "   peak_rank  weeks_on_chart  \n",
       "0          1             3.0  \n",
       "1          2             1.0  \n",
       "2          1             3.0  "
      ]
     },
     "execution_count": 9,
     "metadata": {},
     "output_type": "execute_result"
    }
   ],
   "source": [
    "query = \"select * from charts limit 3\"\n",
    "pd.read_sql(query, con=engine)"
   ]
  },
  {
   "cell_type": "markdown",
   "metadata": {},
   "source": [
    "### Where conditions\n"
   ]
  },
  {
   "cell_type": "code",
   "execution_count": 10,
   "metadata": {},
   "outputs": [
    {
     "data": {
      "text/html": [
       "<div>\n",
       "<style scoped>\n",
       "    .dataframe tbody tr th:only-of-type {\n",
       "        vertical-align: middle;\n",
       "    }\n",
       "\n",
       "    .dataframe tbody tr th {\n",
       "        vertical-align: top;\n",
       "    }\n",
       "\n",
       "    .dataframe thead th {\n",
       "        text-align: right;\n",
       "    }\n",
       "</style>\n",
       "<table border=\"1\" class=\"dataframe\">\n",
       "  <thead>\n",
       "    <tr style=\"text-align: right;\">\n",
       "      <th></th>\n",
       "      <th>id</th>\n",
       "      <th>region</th>\n",
       "      <th>freq</th>\n",
       "      <th>date</th>\n",
       "      <th>track_id</th>\n",
       "      <th>rank</th>\n",
       "      <th>streams</th>\n",
       "      <th>peak_rank</th>\n",
       "      <th>weeks_on_chart</th>\n",
       "    </tr>\n",
       "  </thead>\n",
       "  <tbody>\n",
       "    <tr>\n",
       "      <th>0</th>\n",
       "      <td>66</td>\n",
       "      <td>us</td>\n",
       "      <td>weekly</td>\n",
       "      <td>2021-06-03</td>\n",
       "      <td>4ZtFanR9U6ndgddUvNcjcG</td>\n",
       "      <td>1</td>\n",
       "      <td>24777068</td>\n",
       "      <td>1</td>\n",
       "      <td>3.0</td>\n",
       "    </tr>\n",
       "    <tr>\n",
       "      <th>1</th>\n",
       "      <td>67</td>\n",
       "      <td>us</td>\n",
       "      <td>weekly</td>\n",
       "      <td>2021-06-10</td>\n",
       "      <td>4ZtFanR9U6ndgddUvNcjcG</td>\n",
       "      <td>1</td>\n",
       "      <td>20688190</td>\n",
       "      <td>1</td>\n",
       "      <td>4.0</td>\n",
       "    </tr>\n",
       "    <tr>\n",
       "      <th>2</th>\n",
       "      <td>68</td>\n",
       "      <td>us</td>\n",
       "      <td>weekly</td>\n",
       "      <td>2021-06-17</td>\n",
       "      <td>4ZtFanR9U6ndgddUvNcjcG</td>\n",
       "      <td>1</td>\n",
       "      <td>17136875</td>\n",
       "      <td>1</td>\n",
       "      <td>5.0</td>\n",
       "    </tr>\n",
       "  </tbody>\n",
       "</table>\n",
       "</div>"
      ],
      "text/plain": [
       "   id region    freq        date                track_id  rank   streams  \\\n",
       "0  66     us  weekly  2021-06-03  4ZtFanR9U6ndgddUvNcjcG     1  24777068   \n",
       "1  67     us  weekly  2021-06-10  4ZtFanR9U6ndgddUvNcjcG     1  20688190   \n",
       "2  68     us  weekly  2021-06-17  4ZtFanR9U6ndgddUvNcjcG     1  17136875   \n",
       "\n",
       "   peak_rank  weeks_on_chart  \n",
       "0          1             3.0  \n",
       "1          1             4.0  \n",
       "2          1             5.0  "
      ]
     },
     "execution_count": 10,
     "metadata": {},
     "output_type": "execute_result"
    }
   ],
   "source": [
    "query = \"select * from charts where streams >  17000000\"\n",
    "pd.read_sql(query, con=engine)"
   ]
  },
  {
   "cell_type": "markdown",
   "metadata": {},
   "source": [
    "### Aggregations\n"
   ]
  },
  {
   "cell_type": "code",
   "execution_count": 11,
   "metadata": {},
   "outputs": [
    {
     "data": {
      "text/html": [
       "<div>\n",
       "<style scoped>\n",
       "    .dataframe tbody tr th:only-of-type {\n",
       "        vertical-align: middle;\n",
       "    }\n",
       "\n",
       "    .dataframe tbody tr th {\n",
       "        vertical-align: top;\n",
       "    }\n",
       "\n",
       "    .dataframe thead th {\n",
       "        text-align: right;\n",
       "    }\n",
       "</style>\n",
       "<table border=\"1\" class=\"dataframe\">\n",
       "  <thead>\n",
       "    <tr style=\"text-align: right;\">\n",
       "      <th></th>\n",
       "      <th>count(*)</th>\n",
       "      <th>avg(streams)</th>\n",
       "    </tr>\n",
       "  </thead>\n",
       "  <tbody>\n",
       "    <tr>\n",
       "      <th>0</th>\n",
       "      <td>15598</td>\n",
       "      <td>1.030511e+06</td>\n",
       "    </tr>\n",
       "  </tbody>\n",
       "</table>\n",
       "</div>"
      ],
      "text/plain": [
       "   count(*)  avg(streams)\n",
       "0     15598  1.030511e+06"
      ]
     },
     "execution_count": 11,
     "metadata": {},
     "output_type": "execute_result"
    }
   ],
   "source": [
    "query = \"select count(*), avg(streams) from charts \"\n",
    "pd.read_sql(query, con=engine)"
   ]
  },
  {
   "cell_type": "markdown",
   "metadata": {},
   "source": [
    "### Grouped aggregations\n"
   ]
  },
  {
   "cell_type": "code",
   "execution_count": 12,
   "metadata": {},
   "outputs": [
    {
     "data": {
      "text/html": [
       "<div>\n",
       "<style scoped>\n",
       "    .dataframe tbody tr th:only-of-type {\n",
       "        vertical-align: middle;\n",
       "    }\n",
       "\n",
       "    .dataframe tbody tr th {\n",
       "        vertical-align: top;\n",
       "    }\n",
       "\n",
       "    .dataframe thead th {\n",
       "        text-align: right;\n",
       "    }\n",
       "</style>\n",
       "<table border=\"1\" class=\"dataframe\">\n",
       "  <thead>\n",
       "    <tr style=\"text-align: right;\">\n",
       "      <th></th>\n",
       "      <th>region</th>\n",
       "      <th>avg(streams)</th>\n",
       "    </tr>\n",
       "  </thead>\n",
       "  <tbody>\n",
       "    <tr>\n",
       "      <th>0</th>\n",
       "      <td>us</td>\n",
       "      <td>2.606887e+06</td>\n",
       "    </tr>\n",
       "    <tr>\n",
       "      <th>1</th>\n",
       "      <td>de</td>\n",
       "      <td>8.139232e+05</td>\n",
       "    </tr>\n",
       "    <tr>\n",
       "      <th>2</th>\n",
       "      <td>es</td>\n",
       "      <td>7.866070e+05</td>\n",
       "    </tr>\n",
       "    <tr>\n",
       "      <th>3</th>\n",
       "      <td>it</td>\n",
       "      <td>7.221330e+05</td>\n",
       "    </tr>\n",
       "    <tr>\n",
       "      <th>4</th>\n",
       "      <td>gb</td>\n",
       "      <td>6.968614e+05</td>\n",
       "    </tr>\n",
       "    <tr>\n",
       "      <th>5</th>\n",
       "      <td>fr</td>\n",
       "      <td>5.564647e+05</td>\n",
       "    </tr>\n",
       "  </tbody>\n",
       "</table>\n",
       "</div>"
      ],
      "text/plain": [
       "  region  avg(streams)\n",
       "0     us  2.606887e+06\n",
       "1     de  8.139232e+05\n",
       "2     es  7.866070e+05\n",
       "3     it  7.221330e+05\n",
       "4     gb  6.968614e+05\n",
       "5     fr  5.564647e+05"
      ]
     },
     "execution_count": 12,
     "metadata": {},
     "output_type": "execute_result"
    }
   ],
   "source": [
    "query = \"select region, avg(streams) from charts group by region order by avg(streams) desc\"\n",
    "pd.read_sql(query, con=engine)"
   ]
  },
  {
   "cell_type": "markdown",
   "metadata": {},
   "source": [
    "### Joining tables\n"
   ]
  },
  {
   "cell_type": "code",
   "execution_count": 13,
   "metadata": {},
   "outputs": [
    {
     "data": {
      "text/html": [
       "<div>\n",
       "<style scoped>\n",
       "    .dataframe tbody tr th:only-of-type {\n",
       "        vertical-align: middle;\n",
       "    }\n",
       "\n",
       "    .dataframe tbody tr th {\n",
       "        vertical-align: top;\n",
       "    }\n",
       "\n",
       "    .dataframe thead th {\n",
       "        text-align: right;\n",
       "    }\n",
       "</style>\n",
       "<table border=\"1\" class=\"dataframe\">\n",
       "  <thead>\n",
       "    <tr style=\"text-align: right;\">\n",
       "      <th></th>\n",
       "      <th>id</th>\n",
       "      <th>region</th>\n",
       "      <th>freq</th>\n",
       "      <th>date</th>\n",
       "      <th>track_id</th>\n",
       "      <th>rank</th>\n",
       "      <th>streams</th>\n",
       "      <th>peak_rank</th>\n",
       "      <th>weeks_on_chart</th>\n",
       "      <th>id</th>\n",
       "      <th>...</th>\n",
       "      <th>mode</th>\n",
       "      <th>tempo</th>\n",
       "      <th>explicit</th>\n",
       "      <th>danceability</th>\n",
       "      <th>energy</th>\n",
       "      <th>speechiness</th>\n",
       "      <th>acousticness</th>\n",
       "      <th>instrumentalness</th>\n",
       "      <th>liveness</th>\n",
       "      <th>valence</th>\n",
       "    </tr>\n",
       "  </thead>\n",
       "  <tbody>\n",
       "    <tr>\n",
       "      <th>0</th>\n",
       "      <td>1</td>\n",
       "      <td>de</td>\n",
       "      <td>weekly</td>\n",
       "      <td>2021-06-03</td>\n",
       "      <td>4ZtFanR9U6ndgddUvNcjcG</td>\n",
       "      <td>1</td>\n",
       "      <td>3704439</td>\n",
       "      <td>1</td>\n",
       "      <td>3.0</td>\n",
       "      <td>4ZtFanR9U6ndgddUvNcjcG</td>\n",
       "      <td>...</td>\n",
       "      <td>mayor</td>\n",
       "      <td>166.928</td>\n",
       "      <td>1</td>\n",
       "      <td>0.563</td>\n",
       "      <td>0.664</td>\n",
       "      <td>0.1540</td>\n",
       "      <td>0.3350</td>\n",
       "      <td>0.000000</td>\n",
       "      <td>0.0849</td>\n",
       "      <td>0.688</td>\n",
       "    </tr>\n",
       "    <tr>\n",
       "      <th>1</th>\n",
       "      <td>1</td>\n",
       "      <td>de</td>\n",
       "      <td>weekly</td>\n",
       "      <td>2021-06-03</td>\n",
       "      <td>6DiaHETMcKdX7FwuGXwp1O</td>\n",
       "      <td>2</td>\n",
       "      <td>3582697</td>\n",
       "      <td>2</td>\n",
       "      <td>1.0</td>\n",
       "      <td>6DiaHETMcKdX7FwuGXwp1O</td>\n",
       "      <td>...</td>\n",
       "      <td>mayor</td>\n",
       "      <td>94.915</td>\n",
       "      <td>1</td>\n",
       "      <td>0.841</td>\n",
       "      <td>0.871</td>\n",
       "      <td>0.0585</td>\n",
       "      <td>0.5440</td>\n",
       "      <td>0.000000</td>\n",
       "      <td>0.0853</td>\n",
       "      <td>0.564</td>\n",
       "    </tr>\n",
       "    <tr>\n",
       "      <th>2</th>\n",
       "      <td>1</td>\n",
       "      <td>de</td>\n",
       "      <td>weekly</td>\n",
       "      <td>2021-06-03</td>\n",
       "      <td>4txsSBdT4yVJtUj41YaQEB</td>\n",
       "      <td>3</td>\n",
       "      <td>2945134</td>\n",
       "      <td>1</td>\n",
       "      <td>3.0</td>\n",
       "      <td>4txsSBdT4yVJtUj41YaQEB</td>\n",
       "      <td>...</td>\n",
       "      <td>mayor</td>\n",
       "      <td>102.022</td>\n",
       "      <td>1</td>\n",
       "      <td>0.959</td>\n",
       "      <td>0.524</td>\n",
       "      <td>0.1830</td>\n",
       "      <td>0.0686</td>\n",
       "      <td>0.000000</td>\n",
       "      <td>0.0913</td>\n",
       "      <td>0.285</td>\n",
       "    </tr>\n",
       "    <tr>\n",
       "      <th>3</th>\n",
       "      <td>1</td>\n",
       "      <td>de</td>\n",
       "      <td>weekly</td>\n",
       "      <td>2021-06-03</td>\n",
       "      <td>2knDuFWczh1Wv92eBAdPTa</td>\n",
       "      <td>4</td>\n",
       "      <td>2739815</td>\n",
       "      <td>1</td>\n",
       "      <td>6.0</td>\n",
       "      <td>2knDuFWczh1Wv92eBAdPTa</td>\n",
       "      <td>...</td>\n",
       "      <td>mayor</td>\n",
       "      <td>82.009</td>\n",
       "      <td>1</td>\n",
       "      <td>0.743</td>\n",
       "      <td>0.601</td>\n",
       "      <td>0.0615</td>\n",
       "      <td>0.3360</td>\n",
       "      <td>0.000002</td>\n",
       "      <td>0.0902</td>\n",
       "      <td>0.445</td>\n",
       "    </tr>\n",
       "    <tr>\n",
       "      <th>4</th>\n",
       "      <td>1</td>\n",
       "      <td>de</td>\n",
       "      <td>weekly</td>\n",
       "      <td>2021-06-03</td>\n",
       "      <td>3idbCPumlga23rxFA08fZE</td>\n",
       "      <td>5</td>\n",
       "      <td>2664580</td>\n",
       "      <td>5</td>\n",
       "      <td>1.0</td>\n",
       "      <td>3idbCPumlga23rxFA08fZE</td>\n",
       "      <td>...</td>\n",
       "      <td>mayor</td>\n",
       "      <td>149.610</td>\n",
       "      <td>0</td>\n",
       "      <td>0.468</td>\n",
       "      <td>0.669</td>\n",
       "      <td>0.1550</td>\n",
       "      <td>0.0572</td>\n",
       "      <td>0.000057</td>\n",
       "      <td>0.1370</td>\n",
       "      <td>0.236</td>\n",
       "    </tr>\n",
       "    <tr>\n",
       "      <th>...</th>\n",
       "      <td>...</td>\n",
       "      <td>...</td>\n",
       "      <td>...</td>\n",
       "      <td>...</td>\n",
       "      <td>...</td>\n",
       "      <td>...</td>\n",
       "      <td>...</td>\n",
       "      <td>...</td>\n",
       "      <td>...</td>\n",
       "      <td>...</td>\n",
       "      <td>...</td>\n",
       "      <td>...</td>\n",
       "      <td>...</td>\n",
       "      <td>...</td>\n",
       "      <td>...</td>\n",
       "      <td>...</td>\n",
       "      <td>...</td>\n",
       "      <td>...</td>\n",
       "      <td>...</td>\n",
       "      <td>...</td>\n",
       "      <td>...</td>\n",
       "    </tr>\n",
       "    <tr>\n",
       "      <th>15593</th>\n",
       "      <td>78</td>\n",
       "      <td>us</td>\n",
       "      <td>weekly</td>\n",
       "      <td>2021-08-26</td>\n",
       "      <td>38GBNKZUhfBkk3oNlWzRYd</td>\n",
       "      <td>196</td>\n",
       "      <td>1450097</td>\n",
       "      <td>13</td>\n",
       "      <td>7.0</td>\n",
       "      <td>38GBNKZUhfBkk3oNlWzRYd</td>\n",
       "      <td>...</td>\n",
       "      <td>mayor</td>\n",
       "      <td>85.016</td>\n",
       "      <td>1</td>\n",
       "      <td>0.765</td>\n",
       "      <td>0.373</td>\n",
       "      <td>0.0713</td>\n",
       "      <td>0.3410</td>\n",
       "      <td>0.525000</td>\n",
       "      <td>0.1120</td>\n",
       "      <td>0.554</td>\n",
       "    </tr>\n",
       "    <tr>\n",
       "      <th>15594</th>\n",
       "      <td>78</td>\n",
       "      <td>us</td>\n",
       "      <td>weekly</td>\n",
       "      <td>2021-08-26</td>\n",
       "      <td>7fBv7CLKzipRk6EC6TWHOB</td>\n",
       "      <td>197</td>\n",
       "      <td>1446058</td>\n",
       "      <td>27</td>\n",
       "      <td>41.0</td>\n",
       "      <td>7fBv7CLKzipRk6EC6TWHOB</td>\n",
       "      <td>...</td>\n",
       "      <td>minor</td>\n",
       "      <td>113.003</td>\n",
       "      <td>1</td>\n",
       "      <td>0.585</td>\n",
       "      <td>0.564</td>\n",
       "      <td>0.0515</td>\n",
       "      <td>0.0671</td>\n",
       "      <td>0.000000</td>\n",
       "      <td>0.1350</td>\n",
       "      <td>0.137</td>\n",
       "    </tr>\n",
       "    <tr>\n",
       "      <th>15595</th>\n",
       "      <td>78</td>\n",
       "      <td>us</td>\n",
       "      <td>weekly</td>\n",
       "      <td>2021-08-26</td>\n",
       "      <td>7FIWs0pqAYbP91WWM0vlTQ</td>\n",
       "      <td>198</td>\n",
       "      <td>1445715</td>\n",
       "      <td>2</td>\n",
       "      <td>81.0</td>\n",
       "      <td>7FIWs0pqAYbP91WWM0vlTQ</td>\n",
       "      <td>...</td>\n",
       "      <td>minor</td>\n",
       "      <td>165.995</td>\n",
       "      <td>1</td>\n",
       "      <td>0.808</td>\n",
       "      <td>0.745</td>\n",
       "      <td>0.3420</td>\n",
       "      <td>0.1450</td>\n",
       "      <td>0.000000</td>\n",
       "      <td>0.2920</td>\n",
       "      <td>0.829</td>\n",
       "    </tr>\n",
       "    <tr>\n",
       "      <th>15596</th>\n",
       "      <td>78</td>\n",
       "      <td>us</td>\n",
       "      <td>weekly</td>\n",
       "      <td>2021-08-26</td>\n",
       "      <td>07MDkzWARZaLEdKxo6yArG</td>\n",
       "      <td>199</td>\n",
       "      <td>1442195</td>\n",
       "      <td>199</td>\n",
       "      <td>1.0</td>\n",
       "      <td>07MDkzWARZaLEdKxo6yArG</td>\n",
       "      <td>...</td>\n",
       "      <td>mayor</td>\n",
       "      <td>94.995</td>\n",
       "      <td>1</td>\n",
       "      <td>0.773</td>\n",
       "      <td>0.470</td>\n",
       "      <td>0.0299</td>\n",
       "      <td>0.0153</td>\n",
       "      <td>0.000193</td>\n",
       "      <td>0.0851</td>\n",
       "      <td>0.399</td>\n",
       "    </tr>\n",
       "    <tr>\n",
       "      <th>15597</th>\n",
       "      <td>78</td>\n",
       "      <td>us</td>\n",
       "      <td>weekly</td>\n",
       "      <td>2021-08-26</td>\n",
       "      <td>79s5XnCN4TJKTVMSmOx8Ep</td>\n",
       "      <td>200</td>\n",
       "      <td>1441461</td>\n",
       "      <td>18</td>\n",
       "      <td>76.0</td>\n",
       "      <td>79s5XnCN4TJKTVMSmOx8Ep</td>\n",
       "      <td>...</td>\n",
       "      <td>mayor</td>\n",
       "      <td>142.094</td>\n",
       "      <td>1</td>\n",
       "      <td>0.548</td>\n",
       "      <td>0.805</td>\n",
       "      <td>0.3510</td>\n",
       "      <td>0.2120</td>\n",
       "      <td>0.000389</td>\n",
       "      <td>0.4080</td>\n",
       "      <td>0.648</td>\n",
       "    </tr>\n",
       "  </tbody>\n",
       "</table>\n",
       "<p>15598 rows × 22 columns</p>\n",
       "</div>"
      ],
      "text/plain": [
       "       id region    freq        date                track_id  rank  streams  \\\n",
       "0       1     de  weekly  2021-06-03  4ZtFanR9U6ndgddUvNcjcG     1  3704439   \n",
       "1       1     de  weekly  2021-06-03  6DiaHETMcKdX7FwuGXwp1O     2  3582697   \n",
       "2       1     de  weekly  2021-06-03  4txsSBdT4yVJtUj41YaQEB     3  2945134   \n",
       "3       1     de  weekly  2021-06-03  2knDuFWczh1Wv92eBAdPTa     4  2739815   \n",
       "4       1     de  weekly  2021-06-03  3idbCPumlga23rxFA08fZE     5  2664580   \n",
       "...    ..    ...     ...         ...                     ...   ...      ...   \n",
       "15593  78     us  weekly  2021-08-26  38GBNKZUhfBkk3oNlWzRYd   196  1450097   \n",
       "15594  78     us  weekly  2021-08-26  7fBv7CLKzipRk6EC6TWHOB   197  1446058   \n",
       "15595  78     us  weekly  2021-08-26  7FIWs0pqAYbP91WWM0vlTQ   198  1445715   \n",
       "15596  78     us  weekly  2021-08-26  07MDkzWARZaLEdKxo6yArG   199  1442195   \n",
       "15597  78     us  weekly  2021-08-26  79s5XnCN4TJKTVMSmOx8Ep   200  1441461   \n",
       "\n",
       "       peak_rank  weeks_on_chart                      id  ...   mode    tempo  \\\n",
       "0              1             3.0  4ZtFanR9U6ndgddUvNcjcG  ...  mayor  166.928   \n",
       "1              2             1.0  6DiaHETMcKdX7FwuGXwp1O  ...  mayor   94.915   \n",
       "2              1             3.0  4txsSBdT4yVJtUj41YaQEB  ...  mayor  102.022   \n",
       "3              1             6.0  2knDuFWczh1Wv92eBAdPTa  ...  mayor   82.009   \n",
       "4              5             1.0  3idbCPumlga23rxFA08fZE  ...  mayor  149.610   \n",
       "...          ...             ...                     ...  ...    ...      ...   \n",
       "15593         13             7.0  38GBNKZUhfBkk3oNlWzRYd  ...  mayor   85.016   \n",
       "15594         27            41.0  7fBv7CLKzipRk6EC6TWHOB  ...  minor  113.003   \n",
       "15595          2            81.0  7FIWs0pqAYbP91WWM0vlTQ  ...  minor  165.995   \n",
       "15596        199             1.0  07MDkzWARZaLEdKxo6yArG  ...  mayor   94.995   \n",
       "15597         18            76.0  79s5XnCN4TJKTVMSmOx8Ep  ...  mayor  142.094   \n",
       "\n",
       "      explicit  danceability  energy  speechiness  acousticness  \\\n",
       "0            1         0.563   0.664       0.1540        0.3350   \n",
       "1            1         0.841   0.871       0.0585        0.5440   \n",
       "2            1         0.959   0.524       0.1830        0.0686   \n",
       "3            1         0.743   0.601       0.0615        0.3360   \n",
       "4            0         0.468   0.669       0.1550        0.0572   \n",
       "...        ...           ...     ...          ...           ...   \n",
       "15593        1         0.765   0.373       0.0713        0.3410   \n",
       "15594        1         0.585   0.564       0.0515        0.0671   \n",
       "15595        1         0.808   0.745       0.3420        0.1450   \n",
       "15596        1         0.773   0.470       0.0299        0.0153   \n",
       "15597        1         0.548   0.805       0.3510        0.2120   \n",
       "\n",
       "       instrumentalness  liveness  valence  \n",
       "0              0.000000    0.0849    0.688  \n",
       "1              0.000000    0.0853    0.564  \n",
       "2              0.000000    0.0913    0.285  \n",
       "3              0.000002    0.0902    0.445  \n",
       "4              0.000057    0.1370    0.236  \n",
       "...                 ...       ...      ...  \n",
       "15593          0.525000    0.1120    0.554  \n",
       "15594          0.000000    0.1350    0.137  \n",
       "15595          0.000000    0.2920    0.829  \n",
       "15596          0.000193    0.0851    0.399  \n",
       "15597          0.000389    0.4080    0.648  \n",
       "\n",
       "[15598 rows x 22 columns]"
      ]
     },
     "execution_count": 13,
     "metadata": {},
     "output_type": "execute_result"
    }
   ],
   "source": [
    "query = \"\"\"select * from charts\n",
    "           left join tracks\n",
    "           on charts.track_id = tracks.id\"\"\"\n",
    "pd.read_sql(query, con=engine)"
   ]
  },
  {
   "cell_type": "markdown",
   "metadata": {},
   "source": [
    "# 3. Write Pandas DataFrame to SQL Database\n"
   ]
  },
  {
   "cell_type": "markdown",
   "metadata": {},
   "source": [
    "For this demo, we create some new DataFrame with aggregated data, and then write this data back to the database\n"
   ]
  },
  {
   "cell_type": "code",
   "execution_count": 14,
   "metadata": {},
   "outputs": [
    {
     "data": {
      "text/html": [
       "<div>\n",
       "<style scoped>\n",
       "    .dataframe tbody tr th:only-of-type {\n",
       "        vertical-align: middle;\n",
       "    }\n",
       "\n",
       "    .dataframe tbody tr th {\n",
       "        vertical-align: top;\n",
       "    }\n",
       "\n",
       "    .dataframe thead th {\n",
       "        text-align: right;\n",
       "    }\n",
       "</style>\n",
       "<table border=\"1\" class=\"dataframe\">\n",
       "  <thead>\n",
       "    <tr style=\"text-align: right;\">\n",
       "      <th></th>\n",
       "      <th>region</th>\n",
       "      <th>avg_streams</th>\n",
       "    </tr>\n",
       "  </thead>\n",
       "  <tbody>\n",
       "    <tr>\n",
       "      <th>0</th>\n",
       "      <td>us</td>\n",
       "      <td>2.606887e+06</td>\n",
       "    </tr>\n",
       "    <tr>\n",
       "      <th>1</th>\n",
       "      <td>de</td>\n",
       "      <td>8.139232e+05</td>\n",
       "    </tr>\n",
       "    <tr>\n",
       "      <th>2</th>\n",
       "      <td>es</td>\n",
       "      <td>7.866070e+05</td>\n",
       "    </tr>\n",
       "    <tr>\n",
       "      <th>3</th>\n",
       "      <td>it</td>\n",
       "      <td>7.221330e+05</td>\n",
       "    </tr>\n",
       "    <tr>\n",
       "      <th>4</th>\n",
       "      <td>gb</td>\n",
       "      <td>6.968614e+05</td>\n",
       "    </tr>\n",
       "    <tr>\n",
       "      <th>5</th>\n",
       "      <td>fr</td>\n",
       "      <td>5.564647e+05</td>\n",
       "    </tr>\n",
       "  </tbody>\n",
       "</table>\n",
       "</div>"
      ],
      "text/plain": [
       "  region   avg_streams\n",
       "0     us  2.606887e+06\n",
       "1     de  8.139232e+05\n",
       "2     es  7.866070e+05\n",
       "3     it  7.221330e+05\n",
       "4     gb  6.968614e+05\n",
       "5     fr  5.564647e+05"
      ]
     },
     "execution_count": 14,
     "metadata": {},
     "output_type": "execute_result"
    }
   ],
   "source": [
    "query = \"\"\"select region, avg(streams) as avg_streams from charts\n",
    "           left join tracks\n",
    "           on charts.track_id = tracks.id \n",
    "           group by region\n",
    "           order by avg_streams desc\"\"\"\n",
    "aggregated_data = pd.read_sql(query, con=engine)\n",
    "aggregated_data"
   ]
  },
  {
   "cell_type": "code",
   "execution_count": 15,
   "metadata": {},
   "outputs": [
    {
     "data": {
      "text/plain": [
       "6"
      ]
     },
     "execution_count": 15,
     "metadata": {},
     "output_type": "execute_result"
    }
   ],
   "source": [
    "aggregated_data.to_sql(name=\"avg_streams_by_region\", \n",
    "                       con=engine, \n",
    "                       if_exists='replace',   # fail, replace, append \n",
    "                       index=False)"
   ]
  },
  {
   "cell_type": "code",
   "execution_count": 16,
   "metadata": {},
   "outputs": [
    {
     "data": {
      "text/plain": [
       "['artists', 'avg_streams_by_region', 'charts', 'tracks', 'tracks_artists']"
      ]
     },
     "execution_count": 16,
     "metadata": {},
     "output_type": "execute_result"
    }
   ],
   "source": [
    "inspect(engine).get_table_names()"
   ]
  },
  {
   "cell_type": "markdown",
   "metadata": {},
   "source": [
    "# 4. Execute Arbitrary SQL\n"
   ]
  },
  {
   "cell_type": "markdown",
   "metadata": {},
   "source": [
    "So far, we have only used Pandas `read_sql` and `write_sql` functions to interact with our database. **However, we can run arbitrary SQL from our Python session**.\n",
    "\n",
    "In the following we:\n",
    "\n",
    "1. Connect to our MySQL Server\n",
    "2. We create a new test database\n",
    "3. We create a new table from a Pandas DataFrame\n",
    "4. We clean up by dropping the table and the database\n"
   ]
  },
  {
   "cell_type": "code",
   "execution_count": 17,
   "metadata": {},
   "outputs": [],
   "source": [
    "from sqlalchemy import text\n",
    "import seaborn as sns"
   ]
  },
  {
   "cell_type": "markdown",
   "metadata": {},
   "source": [
    "### Connect to MySQL Server\n"
   ]
  },
  {
   "cell_type": "markdown",
   "metadata": {},
   "source": [
    "Here we do not connect to a specific database, but to the MySQL Server (one level higher in the hierarchy). This will allow us to manage (create, alter, delete ...) entire databases\n"
   ]
  },
  {
   "cell_type": "code",
   "execution_count": 18,
   "metadata": {},
   "outputs": [],
   "source": [
    "connection_string = f\"{DIALECT}+{DRIVER}://{USER}:{PASSWORD}@{HOST}:{PORT}\"\n",
    "server_engine = create_engine(connection_string)"
   ]
  },
  {
   "cell_type": "markdown",
   "metadata": {},
   "source": [
    "### Create a new database\n"
   ]
  },
  {
   "cell_type": "code",
   "execution_count": 19,
   "metadata": {},
   "outputs": [],
   "source": [
    "with server_engine.connect() as connection:\n",
    "    connection.execute(text('DROP DATABASE IF EXISTS test'))\n",
    "    connection.execute(text('CREATE DATABASE test'))"
   ]
  },
  {
   "cell_type": "code",
   "execution_count": 20,
   "metadata": {},
   "outputs": [],
   "source": [
    "connection_string = f\"{DIALECT}+{DRIVER}://{USER}:{PASSWORD}@{HOST}:{PORT}/test\"\n",
    "test_engine = create_engine(connection_string)"
   ]
  },
  {
   "cell_type": "code",
   "execution_count": 21,
   "metadata": {},
   "outputs": [
    {
     "data": {
      "text/plain": [
       "891"
      ]
     },
     "execution_count": 21,
     "metadata": {},
     "output_type": "execute_result"
    }
   ],
   "source": [
    "titanic = sns.load_dataset('titanic')\n",
    "titanic.to_sql(name='titanic', con=test_engine)"
   ]
  },
  {
   "cell_type": "markdown",
   "metadata": {},
   "source": [
    "### Clean up: drop table and database\n"
   ]
  },
  {
   "cell_type": "code",
   "execution_count": 22,
   "metadata": {},
   "outputs": [],
   "source": [
    "with server_engine.connect() as connection:\n",
    "    connection.execute(text(\"Drop table if exists test.titanic\"))\n",
    "    connection.execute(text(\"Drop database if exists test\"))"
   ]
  },
  {
   "cell_type": "code",
   "execution_count": null,
   "metadata": {},
   "outputs": [
    {
     "ename": "NameError",
     "evalue": "name 'artist' is not defined",
     "output_type": "error",
     "traceback": [
      "\u001b[0;31m---------------------------------------------------------------------------\u001b[0m",
      "\u001b[0;31mNameError\u001b[0m                                 Traceback (most recent call last)",
      "Cell \u001b[0;32mIn[34], line 1\u001b[0m\n\u001b[0;32m----> 1\u001b[0m \u001b[43martist\u001b[49m\u001b[38;5;241m.\u001b[39mhead()\n",
      "\u001b[0;31mNameError\u001b[0m: name 'artist' is not defined"
     ]
    }
   ],
   "source": [
    "artist "
   ]
  },
  {
   "cell_type": "code",
   "execution_count": 32,
   "metadata": {},
   "outputs": [
    {
     "data": {
      "text/html": [
       "<div>\n",
       "<style scoped>\n",
       "    .dataframe tbody tr th:only-of-type {\n",
       "        vertical-align: middle;\n",
       "    }\n",
       "\n",
       "    .dataframe tbody tr th {\n",
       "        vertical-align: top;\n",
       "    }\n",
       "\n",
       "    .dataframe thead th {\n",
       "        text-align: right;\n",
       "    }\n",
       "</style>\n",
       "<table border=\"1\" class=\"dataframe\">\n",
       "  <thead>\n",
       "    <tr style=\"text-align: right;\">\n",
       "      <th></th>\n",
       "      <th>track_id</th>\n",
       "      <th>artist_id</th>\n",
       "    </tr>\n",
       "  </thead>\n",
       "  <tbody>\n",
       "    <tr>\n",
       "      <th>0</th>\n",
       "      <td>1xK1Gg9SxG8fy2Ya373oqb</td>\n",
       "      <td>7iK8PXO48WeuP03g8YR51W</td>\n",
       "    </tr>\n",
       "    <tr>\n",
       "      <th>1</th>\n",
       "      <td>1xK1Gg9SxG8fy2Ya373oqb</td>\n",
       "      <td>2LmcxBak1alK1bf7d1beTr</td>\n",
       "    </tr>\n",
       "    <tr>\n",
       "      <th>2</th>\n",
       "      <td>1uXJYnCsXy2v50y0fDEEiV</td>\n",
       "      <td>7gjqZ8coFZimZDtdk04WP1</td>\n",
       "    </tr>\n",
       "    <tr>\n",
       "      <th>3</th>\n",
       "      <td>1uXJYnCsXy2v50y0fDEEiV</td>\n",
       "      <td>1MRiIeZbc0cRuxOafDUCtH</td>\n",
       "    </tr>\n",
       "    <tr>\n",
       "      <th>4</th>\n",
       "      <td>1uXJYnCsXy2v50y0fDEEiV</td>\n",
       "      <td>3hBQ4zniNdQf1cqqo6hzuW</td>\n",
       "    </tr>\n",
       "    <tr>\n",
       "      <th>...</th>\n",
       "      <td>...</td>\n",
       "      <td>...</td>\n",
       "    </tr>\n",
       "    <tr>\n",
       "      <th>3580</th>\n",
       "      <td>67qxSUoyng1ohzvfyOyNWW</td>\n",
       "      <td>1k3zqz5SgrYCE0wpcfJX3g</td>\n",
       "    </tr>\n",
       "    <tr>\n",
       "      <th>3581</th>\n",
       "      <td>1t0nF0d3wzsn0SqgtUGhRA</td>\n",
       "      <td>2K5nCggbhSZ00YCYP5qkZS</td>\n",
       "    </tr>\n",
       "    <tr>\n",
       "      <th>3582</th>\n",
       "      <td>6KF78W66DcQ9m5YqR0r5Ig</td>\n",
       "      <td>3pgCLfNbw5ozIfoNsvDU7i</td>\n",
       "    </tr>\n",
       "    <tr>\n",
       "      <th>3583</th>\n",
       "      <td>6KF78W66DcQ9m5YqR0r5Ig</td>\n",
       "      <td>2YVF0Ou5zIc4mpgtLIlGN0</td>\n",
       "    </tr>\n",
       "    <tr>\n",
       "      <th>3584</th>\n",
       "      <td>73oVDoxJHbqOIkZ0C9ir31</td>\n",
       "      <td>2oVrruuEI0Dr2I4NvLtQS0</td>\n",
       "    </tr>\n",
       "  </tbody>\n",
       "</table>\n",
       "<p>3585 rows × 2 columns</p>\n",
       "</div>"
      ],
      "text/plain": [
       "                    track_id               artist_id\n",
       "0     1xK1Gg9SxG8fy2Ya373oqb  7iK8PXO48WeuP03g8YR51W\n",
       "1     1xK1Gg9SxG8fy2Ya373oqb  2LmcxBak1alK1bf7d1beTr\n",
       "2     1uXJYnCsXy2v50y0fDEEiV  7gjqZ8coFZimZDtdk04WP1\n",
       "3     1uXJYnCsXy2v50y0fDEEiV  1MRiIeZbc0cRuxOafDUCtH\n",
       "4     1uXJYnCsXy2v50y0fDEEiV  3hBQ4zniNdQf1cqqo6hzuW\n",
       "...                      ...                     ...\n",
       "3580  67qxSUoyng1ohzvfyOyNWW  1k3zqz5SgrYCE0wpcfJX3g\n",
       "3581  1t0nF0d3wzsn0SqgtUGhRA  2K5nCggbhSZ00YCYP5qkZS\n",
       "3582  6KF78W66DcQ9m5YqR0r5Ig  3pgCLfNbw5ozIfoNsvDU7i\n",
       "3583  6KF78W66DcQ9m5YqR0r5Ig  2YVF0Ou5zIc4mpgtLIlGN0\n",
       "3584  73oVDoxJHbqOIkZ0C9ir31  2oVrruuEI0Dr2I4NvLtQS0\n",
       "\n",
       "[3585 rows x 2 columns]"
      ]
     },
     "execution_count": 32,
     "metadata": {},
     "output_type": "execute_result"
    }
   ],
   "source": [
    "tracks_artists"
   ]
  },
  {
   "cell_type": "code",
   "execution_count": 23,
   "metadata": {},
   "outputs": [],
   "source": [
    "query = \"select * from tracks INNER JOIN tracks_artists ON tracks.id = tracks_artists.track_id INNER JOIN artists ON tracks_artists.artist_id = artists.id\""
   ]
  },
  {
   "cell_type": "code",
   "execution_count": 24,
   "metadata": {},
   "outputs": [],
   "source": [
    "dfa = pd.read_sql(query, con=engine)"
   ]
  },
  {
   "cell_type": "code",
   "execution_count": 36,
   "metadata": {},
   "outputs": [
    {
     "data": {
      "text/plain": [
       "Index(['id', 'name', 'duration', 'mode', 'tempo', 'explicit', 'danceability',\n",
       "       'energy', 'speechiness', 'acousticness', 'instrumentalness', 'liveness',\n",
       "       'valence'],\n",
       "      dtype='object')"
      ]
     },
     "execution_count": 36,
     "metadata": {},
     "output_type": "execute_result"
    }
   ],
   "source": [
    "tracks = pd.read_sql(\"select * from tracks\", con=engine)\n",
    "tracks.head()\n",
    "tracks.columns"
   ]
  },
  {
   "cell_type": "code",
   "execution_count": 35,
   "metadata": {},
   "outputs": [
    {
     "data": {
      "text/plain": [
       "Index(['id', 'name', 'pop', 'rap', 'hip-hop', 'electronic', 'trap', 'rock',\n",
       "       'indie', 'rnb', 'soul', 'house', 'latin', 'reggaeton',\n",
       "       'singer-songwriter', 'jazz', 'dance', 'folk', 'alternative', 'country'],\n",
       "      dtype='object')"
      ]
     },
     "execution_count": 35,
     "metadata": {},
     "output_type": "execute_result"
    }
   ],
   "source": [
    "artists = pd.read_sql(\"select * from artists\", con=engine)\n",
    "artists.head()\n",
    "artists.columns\n",
    "    "
   ]
  },
  {
   "cell_type": "code",
   "execution_count": null,
   "metadata": {},
   "outputs": [],
   "source": []
  },
  {
   "cell_type": "code",
   "execution_count": 29,
   "metadata": {},
   "outputs": [
    {
     "data": {
      "text/plain": [
       "Index(['id', 'name', 'duration', 'mode', 'tempo', 'explicit', 'danceability',\n",
       "       'energy', 'speechiness', 'acousticness', 'instrumentalness', 'liveness',\n",
       "       'valence', 'track_id', 'artist_id', 'id', 'name', 'pop', 'rap',\n",
       "       'hip-hop', 'electronic', 'trap', 'rock', 'indie', 'rnb', 'soul',\n",
       "       'house', 'latin', 'reggaeton', 'singer-songwriter', 'jazz', 'dance',\n",
       "       'folk', 'alternative', 'country'],\n",
       "      dtype='object')"
      ]
     },
     "execution_count": 29,
     "metadata": {},
     "output_type": "execute_result"
    }
   ],
   "source": [
    "dfa.columns"
   ]
  },
  {
   "cell_type": "code",
   "execution_count": 25,
   "metadata": {},
   "outputs": [
    {
     "data": {
      "text/plain": [
       "Index(['id', 'name', 'duration', 'mode', 'tempo', 'explicit', 'danceability',\n",
       "       'energy', 'speechiness', 'acousticness', 'instrumentalness', 'liveness',\n",
       "       'valence', 'track_id', 'artist_id', 'id', 'name', 'pop', 'rap',\n",
       "       'hip-hop', 'electronic', 'trap', 'rock', 'indie', 'rnb', 'soul',\n",
       "       'house', 'latin', 'reggaeton', 'singer-songwriter', 'jazz', 'dance',\n",
       "       'folk', 'alternative', 'country'],\n",
       "      dtype='object')"
      ]
     },
     "execution_count": 25,
     "metadata": {},
     "output_type": "execute_result"
    }
   ],
   "source": [
    "dfa.columns"
   ]
  },
  {
   "cell_type": "markdown",
   "metadata": {},
   "source": [
    "Close all open connections, if present.\n"
   ]
  },
  {
   "cell_type": "code",
   "execution_count": 26,
   "metadata": {},
   "outputs": [],
   "source": [
    "engine.dispose()\n",
    "server_engine.dispose()\n",
    "test_engine.dispose()"
   ]
  }
 ],
 "metadata": {
  "kernelspec": {
   "display_name": "programming",
   "language": "python",
   "name": "python3"
  },
  "language_info": {
   "codemirror_mode": {
    "name": "ipython",
    "version": 3
   },
   "file_extension": ".py",
   "mimetype": "text/x-python",
   "name": "python",
   "nbconvert_exporter": "python",
   "pygments_lexer": "ipython3",
   "version": "3.10.12"
  },
  "orig_nbformat": 4
 },
 "nbformat": 4,
 "nbformat_minor": 2
}
