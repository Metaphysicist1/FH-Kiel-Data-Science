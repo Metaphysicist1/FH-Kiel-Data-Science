{
 "cells": [
  {
   "cell_type": "code",
   "execution_count": 30,
   "metadata": {},
   "outputs": [],
   "source": [
    "from matplotlib import pyplot as plt\n",
    "import numpy as np\n",
    "from sklearn.cluster import KMeans, MiniBatchKMeans\n",
    "from sklearn.metrics import silhouette_score, silhouette_samples, adjusted_rand_score, adjusted_mutual_info_score, homogeneity_score, completeness_score, v_measure_score, fowlkes_mallows_score\n",
    "import pandas as pd"
   ]
  },
  {
   "cell_type": "code",
   "execution_count": 19,
   "metadata": {},
   "outputs": [],
   "source": [
    "x = np.array([3, 3, 4, 4, 5, 6, 7, 7, 8, 9, 1, 2, 2, 3, 4, 5, 5, 6, 7, 7])\n",
    "y = np.array([1, 2, 2, 3, 3, 4, 4, 6, 5, 7, 3, 4, 5, 6, 6, 7, 8, 8, 8, 9])"
   ]
  },
  {
   "cell_type": "markdown",
   "metadata": {},
   "source": [
    "1. Based only on the features, how many clusters would you intuitively expect?\n",
    "\n",
    "2. Cluster the dataset using 𝑘-means with 𝑘 “ 2, 3, 4.\n",
    "\n",
    "3. Do the resulting clusterings fit to those intuitively expected?\n",
    "\n",
    "4. Which properties of 𝑘-means are responsible for the result?"
   ]
  },
  {
   "cell_type": "code",
   "execution_count": 20,
   "metadata": {},
   "outputs": [
    {
     "data": {
      "text/plain": [
       "<matplotlib.collections.PathCollection at 0x7461ed64bcd0>"
      ]
     },
     "execution_count": 20,
     "metadata": {},
     "output_type": "execute_result"
    },
    {
     "data": {
      "image/png": "[encoded data removed]",
      "text/plain": [
       "<Figure size 640x480 with 1 Axes>"
      ]
     },
     "metadata": {},
     "output_type": "display_data"
    }
   ],
   "source": [
    "\n",
    "plt.scatter(x, y, s=10)\n"
   ]
  },
  {
   "cell_type": "code",
   "execution_count": 21,
   "metadata": {},
   "outputs": [],
   "source": [
    "kmeans_pp = KMeans(\n",
    "    n_clusters=2, # find 3 clusters\n",
    "    random_state=42, # make experiments replicable\n",
    "    n_init=200, # find the best clustering out of 20 tries with different initialization\n",
    "    init='k-means++', # use k-means++ initialization\n",
    "    max_iter=300, tol=0.0001)"
   ]
  },
  {
   "cell_type": "code",
   "execution_count": 22,
   "metadata": {},
   "outputs": [],
   "source": [
    "ARR = np.array(list(zip(x, y)))"
   ]
  },
  {
   "cell_type": "code",
   "execution_count": 23,
   "metadata": {},
   "outputs": [],
   "source": [
    "cluster_assignments=kmeans_pp.fit_predict(ARR)"
   ]
  },
  {
   "cell_type": "code",
   "execution_count": 24,
   "metadata": {},
   "outputs": [],
   "source": [
    "def k_means_report(kmeans):\n",
    "    print(f'k-means \\n * has seen {kmeans.n_features_in_} features,\\n \\\n",
    "* used {kmeans.n_iter_} iterations, and \\n \\\n",
    "* resulted in an inertia of {kmeans.inertia_}.')"
   ]
  },
  {
   "cell_type": "code",
   "execution_count": 25,
   "metadata": {},
   "outputs": [
    {
     "name": "stdout",
     "output_type": "stream",
     "text": [
      "k-means \n",
      " * has seen 2 features,\n",
      " * used 3 iterations, and \n",
      " * resulted in an inertia of 81.01010101010101.\n"
     ]
    }
   ],
   "source": [
    "k_means_report(kmeans_pp)"
   ]
  },
  {
   "cell_type": "code",
   "execution_count": 26,
   "metadata": {},
   "outputs": [
    {
     "data": {
      "text/plain": [
       "array([[6.45454545, 6.54545455],\n",
       "       [3.        , 3.22222222]])"
      ]
     },
     "execution_count": 26,
     "metadata": {},
     "output_type": "execute_result"
    }
   ],
   "source": [
    "kmeans_pp.cluster_centers_"
   ]
  },
  {
   "cell_type": "code",
   "execution_count": 27,
   "metadata": {},
   "outputs": [
    {
     "data": {
      "text/plain": [
       "array([1, 1, 1, 1, 1, 0, 0, 0, 0, 0, 1, 1, 1, 1, 0, 0, 0, 0, 0, 0],\n",
       "      dtype=int32)"
      ]
     },
     "execution_count": 27,
     "metadata": {},
     "output_type": "execute_result"
    }
   ],
   "source": [
    "cluster_assignments"
   ]
  },
  {
   "cell_type": "markdown",
   "metadata": {},
   "source": []
  },
  {
   "cell_type": "code",
   "execution_count": 28,
   "metadata": {},
   "outputs": [
    {
     "data": {
      "image/png": "[encoded data removed]",
      "text/plain": [
       "<Figure size 800x800 with 1 Axes>"
      ]
     },
     "metadata": {},
     "output_type": "display_data"
    }
   ],
   "source": [
    "colors=['darkorange', 'darkmagenta', 'dodgerblue']\n",
    "\n",
    "def print_clustering(X, kmeans, cluster_assignments):\n",
    "    plt.figure(figsize=(8, 8))\n",
    "\n",
    "#    for i in range(0,len(np.unique(cluster_assignments))):\n",
    "    for i in np.unique(cluster_assignments):\n",
    "        X_sub=X[cluster_assignments==i, :]\n",
    "        plt.scatter(X_sub[:, 0], X_sub[:, 1], c=colors[i], label=i)\n",
    "    \n",
    "    plt.scatter(\n",
    "        kmeans.cluster_centers_[:, 0], \n",
    "        kmeans.cluster_centers_[:, 1],\n",
    "        s=350, marker='*', c='crimson', edgecolor='black'\n",
    "    )\n",
    "\n",
    "    plt.legend()\n",
    "    \n",
    "print_clustering(ARR, kmeans_pp, cluster_assignments)"
   ]
  },
  {
   "cell_type": "code",
   "execution_count": 31,
   "metadata": {},
   "outputs": [
    {
     "data": {
      "text/html": [
       "<div>\n",
       "<style scoped>\n",
       "    .dataframe tbody tr th:only-of-type {\n",
       "        vertical-align: middle;\n",
       "    }\n",
       "\n",
       "    .dataframe tbody tr th {\n",
       "        vertical-align: top;\n",
       "    }\n",
       "\n",
       "    .dataframe thead th {\n",
       "        text-align: right;\n",
       "    }\n",
       "</style>\n",
       "<table border=\"1\" class=\"dataframe\">\n",
       "  <thead>\n",
       "    <tr style=\"text-align: right;\">\n",
       "      <th>clusters</th>\n",
       "      <th>0</th>\n",
       "      <th>1</th>\n",
       "    </tr>\n",
       "    <tr>\n",
       "      <th>y</th>\n",
       "      <th></th>\n",
       "      <th></th>\n",
       "    </tr>\n",
       "  </thead>\n",
       "  <tbody>\n",
       "    <tr>\n",
       "      <th>1</th>\n",
       "      <td>0</td>\n",
       "      <td>1</td>\n",
       "    </tr>\n",
       "    <tr>\n",
       "      <th>2</th>\n",
       "      <td>0</td>\n",
       "      <td>2</td>\n",
       "    </tr>\n",
       "    <tr>\n",
       "      <th>3</th>\n",
       "      <td>0</td>\n",
       "      <td>3</td>\n",
       "    </tr>\n",
       "    <tr>\n",
       "      <th>4</th>\n",
       "      <td>2</td>\n",
       "      <td>1</td>\n",
       "    </tr>\n",
       "    <tr>\n",
       "      <th>5</th>\n",
       "      <td>1</td>\n",
       "      <td>1</td>\n",
       "    </tr>\n",
       "    <tr>\n",
       "      <th>6</th>\n",
       "      <td>2</td>\n",
       "      <td>1</td>\n",
       "    </tr>\n",
       "    <tr>\n",
       "      <th>7</th>\n",
       "      <td>2</td>\n",
       "      <td>0</td>\n",
       "    </tr>\n",
       "    <tr>\n",
       "      <th>8</th>\n",
       "      <td>3</td>\n",
       "      <td>0</td>\n",
       "    </tr>\n",
       "    <tr>\n",
       "      <th>9</th>\n",
       "      <td>1</td>\n",
       "      <td>0</td>\n",
       "    </tr>\n",
       "  </tbody>\n",
       "</table>\n",
       "</div>"
      ],
      "text/plain": [
       "clusters  0  1\n",
       "y             \n",
       "1         0  1\n",
       "2         0  2\n",
       "3         0  3\n",
       "4         2  1\n",
       "5         1  1\n",
       "6         2  1\n",
       "7         2  0\n",
       "8         3  0\n",
       "9         1  0"
      ]
     },
     "execution_count": 31,
     "metadata": {},
     "output_type": "execute_result"
    }
   ],
   "source": [
    "crosstab=pd.crosstab(y, cluster_assignments)\n",
    "crosstab.index.name=\"y\"\n",
    "crosstab.columns.name=\"clusters\"\n",
    "crosstab"
   ]
  }
 ],
 "metadata": {
  "kernelspec": {
   "display_name": ".venv",
   "language": "python",
   "name": "python3"
  },
  "language_info": {
   "codemirror_mode": {
    "name": "ipython",
    "version": 3
   },
   "file_extension": ".py",
   "mimetype": "text/x-python",
   "name": "python",
   "nbconvert_exporter": "python",
   "pygments_lexer": "ipython3",
   "version": "3.10.12"
  }
 },
 "nbformat": 4,
 "nbformat_minor": 2
}
